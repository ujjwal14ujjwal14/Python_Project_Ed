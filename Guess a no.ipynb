{
 "cells": [
  {
   "cell_type": "code",
   "execution_count": null,
   "metadata": {},
   "outputs": [],
   "source": [
    "import random\n",
    "\n",
    "try:\n",
    "    games = input(\"How many games you would play ?\")\n",
    "except:\n",
    "    print(\"Please select an integer\")\n",
    "    \n",
    "for number in range(0,int(games)):\n",
    "    pick = random.randint(1,26)\n",
    "    guess = None\n",
    "    attemp = 0\n",
    "   \n",
    "    while (pick!=guess):\n",
    "        try:\n",
    "            guess = int(input(\"Please select a number\"))\n",
    "        except:\n",
    "            print(\"Please select a number\")\n",
    "\n",
    "        if(pick!=guess):\n",
    "            attemps +=1\n",
    "            \n",
    "        if (pick>guess):\n",
    "            print(\"High\")\n",
    "            \n",
    "        elif (pick<guess):\n",
    "            print(\"Low\")\n",
    "            \n",
    "        else:\n",
    "            print(\"Good work!! but you took\", str(attemps), \"to guess\")"
   ]
  },
  {
   "cell_type": "code",
   "execution_count": null,
   "metadata": {},
   "outputs": [],
   "source": []
  }
 ],
 "metadata": {
  "kernelspec": {
   "display_name": "Python 3",
   "language": "python",
   "name": "python3"
  },
  "language_info": {
   "codemirror_mode": {
    "name": "ipython",
    "version": 3
   },
   "file_extension": ".py",
   "mimetype": "text/x-python",
   "name": "python",
   "nbconvert_exporter": "python",
   "pygments_lexer": "ipython3",
   "version": "3.7.3"
  }
 },
 "nbformat": 4,
 "nbformat_minor": 2
}
